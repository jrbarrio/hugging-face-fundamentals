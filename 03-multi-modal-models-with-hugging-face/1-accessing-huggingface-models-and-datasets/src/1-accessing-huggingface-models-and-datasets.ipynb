{
 "cells": [
  {
   "cell_type": "markdown",
   "id": "618747fb",
   "metadata": {},
   "source": [
    "# Hugging Face model navigation"
   ]
  },
  {
   "cell_type": "markdown",
   "id": "78eb2970",
   "metadata": {},
   "source": [
    "## How many models"
   ]
  },
  {
   "cell_type": "code",
   "execution_count": 9,
   "id": "9922fb2e",
   "metadata": {},
   "outputs": [
    {
     "name": "stderr",
     "output_type": "stream",
     "text": [
      "/home/jorge/.pyenv/versions/hugging-face-fundamentals/lib/python3.12/site-packages/huggingface_hub/utils/_deprecation.py:100: FutureWarning: Deprecated argument(s) used in 'list_models': task. Will not be supported from version '1.0'.\n",
      "\n",
      "Use `filter` instead.\n",
      "  warnings.warn(message, FutureWarning)\n"
     ]
    },
    {
     "name": "stdout",
     "output_type": "stream",
     "text": [
      "Task: text-to-image, Models: 83212\n"
     ]
    }
   ],
   "source": [
    "from huggingface_hub import HfApi \n",
    "api = HfApi()   \n",
    "models = api.list_models()\n",
    "\n",
    "# Find the list of models for a task\n",
    "models = api.list_models(task=\"text-to-image\")\n",
    "print(f\"Task: text-to-image, Models: {len(list(models))}\")"
   ]
  },
  {
   "cell_type": "markdown",
   "id": "338e550a",
   "metadata": {},
   "source": [
    "## Finding the most popular text-to-image model"
   ]
  },
  {
   "cell_type": "code",
   "execution_count": 10,
   "id": "b7a1c4f0",
   "metadata": {},
   "outputs": [
    {
     "name": "stdout",
     "output_type": "stream",
     "text": [
      "Found 4 models (showing ids):\n",
      " - CompVis/stable-diffusion-v1-4\n",
      " - CompVis/stable-diffusion-v1-1\n",
      " - CompVis/stable-diffusion-v1-2\n",
      " - CompVis/stable-diffusion-v1-3\n"
     ]
    },
    {
     "name": "stderr",
     "output_type": "stream",
     "text": [
      "/home/jorge/.pyenv/versions/hugging-face-fundamentals/lib/python3.12/site-packages/huggingface_hub/utils/_deprecation.py:100: FutureWarning: Deprecated argument(s) used in 'list_models': task, tags. Will not be supported from version '1.0'.\n",
      "\n",
      "Use `filter` instead.\n",
      "  warnings.warn(message, FutureWarning)\n"
     ]
    }
   ],
   "source": [
    "models = api.list_models(\n",
    "    # Filter for text-to-image tasks\n",
    "    task=\"text-to-image\",\n",
    "    author=\"CompVis\",\n",
    "    # Filter for models that can be loaded by the diffusers library\n",
    "    tags=\"diffusers:StableDiffusionPipeline\",\n",
    "    # Sort according to the most popular\n",
    "    sort=\"downloads\",\n",
    "    limit=10,\n",
    ")\n",
    "\n",
    "models = list(models)\n",
    "print(f\"Found {len(models)} models (showing ids):\")\n",
    "for m in models:\n",
    "    print(\" -\", m.id)"
   ]
  },
  {
   "cell_type": "code",
   "execution_count": 11,
   "id": "9b54d630",
   "metadata": {},
   "outputs": [],
   "source": [
    "#from diffusers import StableDiffusionPipeline\n",
    "\n",
    "# Load the most popular model from models\n",
    "#pipe = StableDiffusionPipeline.from_pretrained(models[0].id)"
   ]
  },
  {
   "cell_type": "code",
   "execution_count": 12,
   "id": "cbc1eb9b",
   "metadata": {},
   "outputs": [
    {
     "name": "stdout",
     "output_type": "stream",
     "text": [
      "dict_keys(['any-to-any', 'audio-classification', 'audio-to-audio', 'audio-text-to-text', 'automatic-speech-recognition', 'depth-estimation', 'document-question-answering', 'visual-document-retrieval', 'feature-extraction', 'fill-mask', 'image-classification', 'image-feature-extraction', 'image-segmentation', 'image-to-image', 'image-text-to-text', 'image-to-text', 'image-to-video', 'keypoint-detection', 'mask-generation', 'object-detection', 'video-classification', 'question-answering', 'reinforcement-learning', 'sentence-similarity', 'summarization', 'table-question-answering', 'tabular-classification', 'tabular-regression', 'text-classification', 'text-generation', 'text-ranking', 'text-to-image', 'text-to-speech', 'text-to-video', 'token-classification', 'translation', 'unconditional-image-generation', 'video-text-to-text', 'video-to-video', 'visual-question-answering', 'zero-shot-classification', 'zero-shot-image-classification', 'zero-shot-object-detection', 'text-to-3d', 'image-to-3d'])\n"
     ]
    }
   ],
   "source": [
    "import json \n",
    "from urllib.request import urlopen\n",
    "\n",
    "url = \"https://huggingface.co/api/tasks\"\n",
    "with urlopen(url) as url:\n",
    "  tasks = json.load(url)\n",
    "  print(tasks.keys())"
   ]
  },
  {
   "cell_type": "markdown",
   "id": "f9579df7",
   "metadata": {},
   "source": [
    "# Preprocessing different modalities"
   ]
  },
  {
   "cell_type": "markdown",
   "id": "1bbcdce2",
   "metadata": {},
   "source": [
    "## Text tokenizing"
   ]
  },
  {
   "cell_type": "code",
   "execution_count": 13,
   "id": "6be22cd9",
   "metadata": {},
   "outputs": [
    {
     "name": "stdout",
     "output_type": "stream",
     "text": [
      "do you need more eclairs?\n"
     ]
    },
    {
     "data": {
      "text/plain": [
       "{'input_ids': tensor([[  101,  2079,  2017,  2342,  2062, 14925, 19771,  2869,  1029,   102]]), 'attention_mask': tensor([[1, 1, 1, 1, 1, 1, 1, 1, 1, 1]])}"
      ]
     },
     "execution_count": 13,
     "metadata": {},
     "output_type": "execute_result"
    }
   ],
   "source": [
    "from transformers import AutoTokenizer \n",
    "\n",
    "tokenizer = AutoTokenizer.from_pretrained('distilbert/distilbert-base-uncased')  \n",
    "text = \"Do you need more éclairs?\"    \n",
    "print(tokenizer.backend_tokenizer.normalizer.normalize_str(text))\n",
    "\n",
    "tokenizer(text, return_tensors='pt', padding=True)"
   ]
  },
  {
   "cell_type": "code",
   "execution_count": 14,
   "id": "6a110bb1",
   "metadata": {},
   "outputs": [],
   "source": [
    "# from transformers import BlipProcessor, BlipForConditionalGeneration\n",
    "\n",
    "# checkpoint = \"Salesforce/blip-image-captioning-base\"  \n",
    "# model = BlipForConditionalGeneration.from_pretrained(checkpoint) \n",
    "# processor = BlipProcessor.from_pretrained(checkpoint)"
   ]
  },
  {
   "cell_type": "markdown",
   "id": "7e8a491b",
   "metadata": {},
   "source": [
    "## Image preprocessing"
   ]
  },
  {
   "cell_type": "code",
   "execution_count": 15,
   "id": "4e1931f3",
   "metadata": {},
   "outputs": [],
   "source": [
    "# from datasets import load_dataset \n",
    "\n",
    "# image = load_dataset(\"nlphuji/flickr30k\")['test'][11][\"image\"]\n",
    "# inputs = processor(images=image, return_tensors=\"pt\")\n",
    "# output = model.generate(**inputs)\n",
    "# print(processor.decode(output[0]))"
   ]
  },
  {
   "cell_type": "markdown",
   "id": "b097f734",
   "metadata": {},
   "source": [
    "## Audio preprocessing"
   ]
  },
  {
   "cell_type": "code",
   "execution_count": 16,
   "id": "cc94c605",
   "metadata": {},
   "outputs": [],
   "source": [
    "# from datasets import load_dataset, Audio\n",
    "\n",
    "# dataset = load_dataset(\"CSTR-Edinburgh/vctk\")[\"train\"] \n",
    "# dataset = dataset.cast_column(\"audio\", Audio(sampling_rate=16_000))\n",
    "\n",
    "# from transformers import AutoProcessor\n",
    "\n",
    "# processor = AutoProcessor.from_pretrained(\"openai/whisper-small\") \n",
    "# audio_pp = processor(dataset[0][\"audio\"][\"array\"], sampling_rate=16_000, return_tensors=\"pt\")"
   ]
  }
 ],
 "metadata": {
  "kernelspec": {
   "display_name": "hugging-face-fundamentals",
   "language": "python",
   "name": "python3"
  },
  "language_info": {
   "codemirror_mode": {
    "name": "ipython",
    "version": 3
   },
   "file_extension": ".py",
   "mimetype": "text/x-python",
   "name": "python",
   "nbconvert_exporter": "python",
   "pygments_lexer": "ipython3",
   "version": "3.12.11"
  }
 },
 "nbformat": 4,
 "nbformat_minor": 5
}
