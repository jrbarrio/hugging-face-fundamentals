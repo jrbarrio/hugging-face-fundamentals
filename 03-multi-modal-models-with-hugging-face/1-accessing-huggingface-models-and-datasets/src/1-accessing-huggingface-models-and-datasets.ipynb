{
 "cells": [
  {
   "cell_type": "markdown",
   "id": "618747fb",
   "metadata": {},
   "source": [
    "# Hugging Face model navigation"
   ]
  },
  {
   "cell_type": "markdown",
   "id": "78eb2970",
   "metadata": {},
   "source": [
    "## How many models"
   ]
  },
  {
   "cell_type": "code",
   "execution_count": 1,
   "id": "9922fb2e",
   "metadata": {},
   "outputs": [
    {
     "name": "stderr",
     "output_type": "stream",
     "text": [
      "/home/jorge/.pyenv/versions/hugging-face-fundamentals/lib/python3.12/site-packages/huggingface_hub/utils/_deprecation.py:100: FutureWarning: Deprecated argument(s) used in 'list_models': task. Will not be supported from version '1.0'.\n",
      "\n",
      "Use `filter` instead.\n",
      "  warnings.warn(message, FutureWarning)\n"
     ]
    },
    {
     "name": "stdout",
     "output_type": "stream",
     "text": [
      "Task: text-to-image, Models: 83575\n"
     ]
    }
   ],
   "source": [
    "from huggingface_hub import HfApi \n",
    "api = HfApi()   \n",
    "models = api.list_models()\n",
    "\n",
    "# Find the list of models for a task\n",
    "models = api.list_models(task=\"text-to-image\")\n",
    "print(f\"Task: text-to-image, Models: {len(list(models))}\")"
   ]
  },
  {
   "cell_type": "markdown",
   "id": "338e550a",
   "metadata": {},
   "source": [
    "## Finding the most popular text-to-image model"
   ]
  },
  {
   "cell_type": "code",
   "execution_count": 2,
   "id": "b7a1c4f0",
   "metadata": {},
   "outputs": [
    {
     "name": "stdout",
     "output_type": "stream",
     "text": [
      "Found 4 models (showing ids):\n",
      " - CompVis/stable-diffusion-v1-4\n",
      " - CompVis/stable-diffusion-v1-1\n",
      " - CompVis/stable-diffusion-v1-2\n",
      " - CompVis/stable-diffusion-v1-3\n"
     ]
    },
    {
     "name": "stderr",
     "output_type": "stream",
     "text": [
      "/home/jorge/.pyenv/versions/hugging-face-fundamentals/lib/python3.12/site-packages/huggingface_hub/utils/_deprecation.py:100: FutureWarning: Deprecated argument(s) used in 'list_models': task, tags. Will not be supported from version '1.0'.\n",
      "\n",
      "Use `filter` instead.\n",
      "  warnings.warn(message, FutureWarning)\n"
     ]
    }
   ],
   "source": [
    "models = api.list_models(\n",
    "    # Filter for text-to-image tasks\n",
    "    task=\"text-to-image\",\n",
    "    author=\"CompVis\",\n",
    "    # Filter for models that can be loaded by the diffusers library\n",
    "    tags=\"diffusers:StableDiffusionPipeline\",\n",
    "    # Sort according to the most popular\n",
    "    sort=\"downloads\",\n",
    "    limit=10,\n",
    ")\n",
    "\n",
    "models = list(models)\n",
    "print(f\"Found {len(models)} models (showing ids):\")\n",
    "for m in models:\n",
    "    print(\" -\", m.id)"
   ]
  },
  {
   "cell_type": "code",
   "execution_count": 3,
   "id": "9b54d630",
   "metadata": {},
   "outputs": [],
   "source": [
    "#from diffusers import StableDiffusionPipeline\n",
    "\n",
    "# Load the most popular model from models\n",
    "#pipe = StableDiffusionPipeline.from_pretrained(models[0].id)"
   ]
  },
  {
   "cell_type": "code",
   "execution_count": 4,
   "id": "cbc1eb9b",
   "metadata": {},
   "outputs": [
    {
     "name": "stdout",
     "output_type": "stream",
     "text": [
      "dict_keys(['any-to-any', 'audio-classification', 'audio-to-audio', 'audio-text-to-text', 'automatic-speech-recognition', 'depth-estimation', 'document-question-answering', 'visual-document-retrieval', 'feature-extraction', 'fill-mask', 'image-classification', 'image-feature-extraction', 'image-segmentation', 'image-to-image', 'image-text-to-text', 'image-to-text', 'image-to-video', 'keypoint-detection', 'mask-generation', 'object-detection', 'video-classification', 'question-answering', 'reinforcement-learning', 'sentence-similarity', 'summarization', 'table-question-answering', 'tabular-classification', 'tabular-regression', 'text-classification', 'text-generation', 'text-ranking', 'text-to-image', 'text-to-speech', 'text-to-video', 'token-classification', 'translation', 'unconditional-image-generation', 'video-text-to-text', 'video-to-video', 'visual-question-answering', 'zero-shot-classification', 'zero-shot-image-classification', 'zero-shot-object-detection', 'text-to-3d', 'image-to-3d'])\n"
     ]
    }
   ],
   "source": [
    "import json \n",
    "from urllib.request import urlopen\n",
    "\n",
    "url = \"https://huggingface.co/api/tasks\"\n",
    "with urlopen(url) as url:\n",
    "  tasks = json.load(url)\n",
    "  print(tasks.keys())"
   ]
  },
  {
   "cell_type": "markdown",
   "id": "f9579df7",
   "metadata": {},
   "source": [
    "# Preprocessing different modalities"
   ]
  },
  {
   "cell_type": "markdown",
   "id": "1bbcdce2",
   "metadata": {},
   "source": [
    "## Text tokenizing"
   ]
  },
  {
   "cell_type": "code",
   "execution_count": 5,
   "id": "6be22cd9",
   "metadata": {},
   "outputs": [
    {
     "name": "stdout",
     "output_type": "stream",
     "text": [
      "do you need more eclairs?\n"
     ]
    },
    {
     "data": {
      "text/plain": [
       "{'input_ids': tensor([[  101,  2079,  2017,  2342,  2062, 14925, 19771,  2869,  1029,   102]]), 'attention_mask': tensor([[1, 1, 1, 1, 1, 1, 1, 1, 1, 1]])}"
      ]
     },
     "execution_count": 5,
     "metadata": {},
     "output_type": "execute_result"
    }
   ],
   "source": [
    "from transformers import AutoTokenizer \n",
    "\n",
    "tokenizer = AutoTokenizer.from_pretrained('distilbert/distilbert-base-uncased')  \n",
    "text = \"Do you need more éclairs?\"    \n",
    "print(tokenizer.backend_tokenizer.normalizer.normalize_str(text))\n",
    "\n",
    "tokenizer(text, return_tensors='pt', padding=True)"
   ]
  },
  {
   "cell_type": "code",
   "execution_count": 6,
   "id": "6a110bb1",
   "metadata": {},
   "outputs": [],
   "source": [
    "# from transformers import BlipProcessor, BlipForConditionalGeneration\n",
    "\n",
    "# checkpoint = \"Salesforce/blip-image-captioning-base\"  \n",
    "# model = BlipForConditionalGeneration.from_pretrained(checkpoint) \n",
    "# processor = BlipProcessor.from_pretrained(checkpoint)"
   ]
  },
  {
   "cell_type": "markdown",
   "id": "7e8a491b",
   "metadata": {},
   "source": [
    "## Image preprocessing"
   ]
  },
  {
   "cell_type": "code",
   "execution_count": 7,
   "id": "4e1931f3",
   "metadata": {},
   "outputs": [],
   "source": [
    "# from datasets import load_dataset \n",
    "\n",
    "# image = load_dataset(\"nlphuji/flickr30k\")['test'][11][\"image\"]\n",
    "# inputs = processor(images=image, return_tensors=\"pt\")\n",
    "# output = model.generate(**inputs)\n",
    "# print(processor.decode(output[0]))"
   ]
  },
  {
   "cell_type": "markdown",
   "id": "b097f734",
   "metadata": {},
   "source": [
    "## Audio preprocessing"
   ]
  },
  {
   "cell_type": "code",
   "execution_count": 8,
   "id": "cc94c605",
   "metadata": {},
   "outputs": [],
   "source": [
    "# from datasets import load_dataset, Audio\n",
    "\n",
    "# dataset = load_dataset(\"CSTR-Edinburgh/vctk\")[\"train\"] \n",
    "# dataset = dataset.cast_column(\"audio\", Audio(sampling_rate=16_000))\n",
    "\n",
    "# from transformers import AutoProcessor\n",
    "\n",
    "# processor = AutoProcessor.from_pretrained(\"openai/whisper-small\") \n",
    "# audio_pp = processor(dataset[0][\"audio\"][\"array\"], sampling_rate=16_000, return_tensors=\"pt\")"
   ]
  },
  {
   "cell_type": "markdown",
   "id": "ad9659cd",
   "metadata": {},
   "source": [
    "# Pipeline tasks and evaluations"
   ]
  },
  {
   "cell_type": "markdown",
   "id": "a92c318c",
   "metadata": {},
   "source": [
    "## Pipeline caption generation"
   ]
  },
  {
   "cell_type": "code",
   "execution_count": 9,
   "id": "ef52851a",
   "metadata": {},
   "outputs": [],
   "source": [
    "# from transformers import BlipProcessor, BlipForConditionalGeneration\n",
    "# checkpoint = \"Salesforce/blip-image-captioning-base\"\n",
    "\n",
    "# from transformers import pipeline \n",
    "# pipe = pipeline(\"image-to-text\", model=checkpoint)\n",
    "\n",
    "# from datasets import load_dataset \n",
    "\n",
    "# image = load_dataset(\"nlphuji/flickr30k\")['test'][11][\"image\"]\n",
    "# pipe(image)"
   ]
  },
  {
   "cell_type": "code",
   "execution_count": 10,
   "id": "dc0e0afa",
   "metadata": {},
   "outputs": [],
   "source": [
    "# from huggingface_hub import HfApi\n",
    "# from transformers import pipeline\n",
    "\n",
    "# model = list(api.list_models(task=\"text-to-image\", limit=5))\n",
    "# pipe = pipeline(\"text-to-image\", model[0].id) \n"
   ]
  },
  {
   "cell_type": "markdown",
   "id": "7aa3d664",
   "metadata": {},
   "source": [
    "## Passing keyword arguments"
   ]
  },
  {
   "cell_type": "code",
   "execution_count": 11,
   "id": "87da1c60",
   "metadata": {},
   "outputs": [],
   "source": [
    "# from transformers import pipeline\n",
    "# import soundfile as sf\n",
    "\n",
    "# # Load a text-to-audio pipeline\n",
    "# musicgen = pipeline(task=\"text-to-audio\", model=\"facebook/musicgen-small\", framework=\"pt\")\n",
    "\n",
    "# # Make a dictionary to set the generation temperature to 0.8 and max_new_tokens to 1\n",
    "# generate_kwargs = {\"temperature\": 0.8, \"max_new_tokens\": 1}\n",
    "\n",
    "# # Generate an audio array passing the arguments\n",
    "# outputs = musicgen(\"Classic rock riff\", generate_kwargs=generate_kwargs)\n",
    "# sf.write(\"output.wav\", outputs[\"audio\"][0][0], outputs[\"sampling_rate\"])"
   ]
  },
  {
   "cell_type": "markdown",
   "id": "9d56a5e3",
   "metadata": {},
   "source": [
    "## Model evaluation on a custom dataset"
   ]
  },
  {
   "cell_type": "code",
   "execution_count": 12,
   "id": "c5c58ab7",
   "metadata": {},
   "outputs": [],
   "source": [
    "# from evaluate import evaluator\n",
    "# from huggingface_hub import HfApi\n",
    "# from transformers import pipeline\n",
    "\n",
    "# model = list(api.list_models(task=\"text-to-image\", limit=5))\n",
    "# pipe = pipeline(\"text-to-image\", model[0].id) \n",
    "\n",
    "# # Instantiate the task evaluator\n",
    "# task_evaluator = evaluator(\"image-classification\")\n",
    "\n",
    "# task_evaluator.METRIC_KWARGS = {\"average\": \"weighted\"}\n",
    "\n",
    "# # Get label map from pipeline\n",
    "# label_map = pipe.model.config.label2id\n",
    "\n",
    "# # Compute the metrics\n",
    "# eval_results = task_evaluator.compute(model_or_pipeline=pipe, data=dataset, metric=evaluate.combine(metrics_dict), label_mapping=label_map)\n",
    "\n",
    "# print(f\"Precision: {eval_results['precision']:.2f}, Recall: {eval_results['recall']:.2f}\")"
   ]
  }
 ],
 "metadata": {
  "kernelspec": {
   "display_name": "hugging-face-fundamentals",
   "language": "python",
   "name": "python3"
  },
  "language_info": {
   "codemirror_mode": {
    "name": "ipython",
    "version": 3
   },
   "file_extension": ".py",
   "mimetype": "text/x-python",
   "name": "python",
   "nbconvert_exporter": "python",
   "pygments_lexer": "ipython3",
   "version": "3.12.11"
  }
 },
 "nbformat": 4,
 "nbformat_minor": 5
}
