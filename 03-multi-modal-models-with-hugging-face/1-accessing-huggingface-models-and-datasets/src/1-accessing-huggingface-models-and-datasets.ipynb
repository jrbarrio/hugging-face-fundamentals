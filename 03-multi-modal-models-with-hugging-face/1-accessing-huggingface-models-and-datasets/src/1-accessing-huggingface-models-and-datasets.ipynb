{
 "cells": [
  {
   "cell_type": "markdown",
   "id": "618747fb",
   "metadata": {},
   "source": [
    "# Hugging Face model navigation"
   ]
  },
  {
   "cell_type": "markdown",
   "id": "78eb2970",
   "metadata": {},
   "source": [
    "## How many models"
   ]
  },
  {
   "cell_type": "code",
   "execution_count": 1,
   "id": "9922fb2e",
   "metadata": {},
   "outputs": [
    {
     "name": "stderr",
     "output_type": "stream",
     "text": [
      "/home/jorge/.pyenv/versions/hugging-face-fundamentals/lib/python3.12/site-packages/huggingface_hub/utils/_deprecation.py:100: FutureWarning: Deprecated argument(s) used in 'list_models': task. Will not be supported from version '1.0'.\n",
      "\n",
      "Use `filter` instead.\n",
      "  warnings.warn(message, FutureWarning)\n"
     ]
    },
    {
     "name": "stdout",
     "output_type": "stream",
     "text": [
      "Task: text-to-image, Models: 83206\n"
     ]
    }
   ],
   "source": [
    "from huggingface_hub import HfApi \n",
    "api = HfApi()   \n",
    "models = api.list_models()\n",
    "\n",
    "# Find the list of models for a task\n",
    "models = api.list_models(task=\"text-to-image\")\n",
    "print(f\"Task: text-to-image, Models: {len(list(models))}\")"
   ]
  },
  {
   "cell_type": "markdown",
   "id": "338e550a",
   "metadata": {},
   "source": [
    "## Finding the most popular text-to-image model"
   ]
  },
  {
   "cell_type": "code",
   "execution_count": 2,
   "id": "b7a1c4f0",
   "metadata": {},
   "outputs": [
    {
     "name": "stdout",
     "output_type": "stream",
     "text": [
      "Found 4 models (showing ids):\n",
      " - CompVis/stable-diffusion-v1-4\n",
      " - CompVis/stable-diffusion-v1-1\n",
      " - CompVis/stable-diffusion-v1-2\n",
      " - CompVis/stable-diffusion-v1-3\n"
     ]
    },
    {
     "name": "stderr",
     "output_type": "stream",
     "text": [
      "/home/jorge/.pyenv/versions/hugging-face-fundamentals/lib/python3.12/site-packages/huggingface_hub/utils/_deprecation.py:100: FutureWarning: Deprecated argument(s) used in 'list_models': task, tags. Will not be supported from version '1.0'.\n",
      "\n",
      "Use `filter` instead.\n",
      "  warnings.warn(message, FutureWarning)\n"
     ]
    }
   ],
   "source": [
    "models = api.list_models(\n",
    "    # Filter for text-to-image tasks\n",
    "    task=\"text-to-image\",\n",
    "    author=\"CompVis\",\n",
    "    # Filter for models that can be loaded by the diffusers library\n",
    "    tags=\"diffusers:StableDiffusionPipeline\",\n",
    "    # Sort according to the most popular\n",
    "    sort=\"downloads\",\n",
    "    limit=10,\n",
    ")\n",
    "\n",
    "models = list(models)\n",
    "print(f\"Found {len(models)} models (showing ids):\")\n",
    "for m in models:\n",
    "    print(\" -\", m.id)"
   ]
  },
  {
   "cell_type": "code",
   "execution_count": 3,
   "id": "9b54d630",
   "metadata": {},
   "outputs": [],
   "source": [
    "#from diffusers import StableDiffusionPipeline\n",
    "\n",
    "# Load the most popular model from models\n",
    "#pipe = StableDiffusionPipeline.from_pretrained(models[0].id)"
   ]
  },
  {
   "cell_type": "code",
   "execution_count": 4,
   "id": "cbc1eb9b",
   "metadata": {},
   "outputs": [
    {
     "name": "stdout",
     "output_type": "stream",
     "text": [
      "dict_keys(['any-to-any', 'audio-classification', 'audio-to-audio', 'audio-text-to-text', 'automatic-speech-recognition', 'depth-estimation', 'document-question-answering', 'visual-document-retrieval', 'feature-extraction', 'fill-mask', 'image-classification', 'image-feature-extraction', 'image-segmentation', 'image-to-image', 'image-text-to-text', 'image-to-text', 'image-to-video', 'keypoint-detection', 'mask-generation', 'object-detection', 'video-classification', 'question-answering', 'reinforcement-learning', 'sentence-similarity', 'summarization', 'table-question-answering', 'tabular-classification', 'tabular-regression', 'text-classification', 'text-generation', 'text-ranking', 'text-to-image', 'text-to-speech', 'text-to-video', 'token-classification', 'translation', 'unconditional-image-generation', 'video-text-to-text', 'video-to-video', 'visual-question-answering', 'zero-shot-classification', 'zero-shot-image-classification', 'zero-shot-object-detection', 'text-to-3d', 'image-to-3d'])\n"
     ]
    }
   ],
   "source": [
    "import json \n",
    "from urllib.request import urlopen\n",
    "\n",
    "url = \"https://huggingface.co/api/tasks\"\n",
    "with urlopen(url) as url:\n",
    "  tasks = json.load(url)\n",
    "  print(tasks.keys())"
   ]
  }
 ],
 "metadata": {
  "kernelspec": {
   "display_name": "hugging-face-fundamentals",
   "language": "python",
   "name": "python3"
  },
  "language_info": {
   "codemirror_mode": {
    "name": "ipython",
    "version": 3
   },
   "file_extension": ".py",
   "mimetype": "text/x-python",
   "name": "python",
   "nbconvert_exporter": "python",
   "pygments_lexer": "ipython3",
   "version": "3.12.11"
  }
 },
 "nbformat": 4,
 "nbformat_minor": 5
}
