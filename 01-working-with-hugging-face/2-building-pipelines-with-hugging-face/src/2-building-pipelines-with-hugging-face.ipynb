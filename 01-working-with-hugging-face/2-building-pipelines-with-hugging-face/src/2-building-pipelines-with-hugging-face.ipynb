{
 "cells": [
  {
   "cell_type": "markdown",
   "id": "62aee4e9",
   "metadata": {},
   "source": [
    "# Text classification"
   ]
  },
  {
   "cell_type": "markdown",
   "id": "cd50a130",
   "metadata": {},
   "source": [
    "## Grammatical correctness"
   ]
  },
  {
   "cell_type": "code",
   "execution_count": 1,
   "id": "5af9f96a",
   "metadata": {},
   "outputs": [
    {
     "name": "stderr",
     "output_type": "stream",
     "text": [
      "Device set to use cpu\n"
     ]
    },
    {
     "name": "stdout",
     "output_type": "stream",
     "text": [
      "[{'label': 'LABEL_0', 'score': 0.9956323504447937}]\n"
     ]
    }
   ],
   "source": [
    "from transformers import pipeline \n",
    "\n",
    "# Create a pipeline for grammar checking\n",
    "grammar_checker = pipeline(\n",
    "  task=\"text-classification\", \n",
    "  model=\"abdulmatinomotoso/English_Grammar_Checker\"\n",
    ")\n",
    "\n",
    "# Check grammar of the input text\n",
    "output = grammar_checker(\"I will walk dog\")\n",
    "print(output)"
   ]
  },
  {
   "cell_type": "markdown",
   "id": "b1e3421d",
   "metadata": {},
   "source": [
    "## Question Natural Language Inference"
   ]
  },
  {
   "cell_type": "code",
   "execution_count": 2,
   "id": "f6783314",
   "metadata": {},
   "outputs": [
    {
     "name": "stderr",
     "output_type": "stream",
     "text": [
      "Device set to use cpu\n"
     ]
    },
    {
     "name": "stdout",
     "output_type": "stream",
     "text": [
      "[{'label': 'LABEL_0', 'score': 0.016211561858654022}]\n"
     ]
    }
   ],
   "source": [
    "from transformers import pipeline \n",
    "\n",
    "# Create the pipeline\n",
    "classifier = pipeline(task=\"text-classification\", model=\"cross-encoder/qnli-electra-base\")\n",
    "\n",
    "# Predict the output\n",
    "output = classifier(\"Where is the capital of France?, Brittany is known for its stunning coastline.\")\n",
    "\n",
    "print(output)"
   ]
  },
  {
   "cell_type": "markdown",
   "id": "3e1124a5",
   "metadata": {},
   "source": [
    "## Dynamic category assignment"
   ]
  },
  {
   "cell_type": "code",
   "execution_count": 3,
   "id": "f82cac97",
   "metadata": {},
   "outputs": [
    {
     "name": "stderr",
     "output_type": "stream",
     "text": [
      "Device set to use cpu\n"
     ]
    },
    {
     "name": "stdout",
     "output_type": "stream",
     "text": [
      "Top Label: science with score: 0.9510335326194763\n"
     ]
    }
   ],
   "source": [
    "from transformers import pipeline \n",
    "\n",
    "text = \"AI-powered robots assist in complex brain surgeries with precision.\"\n",
    "\n",
    "# Create the pipeline\n",
    "classifier = pipeline(task=\"zero-shot-classification\", model=\"facebook/bart-large-mnli\")\n",
    "\n",
    "# Create the categories list\n",
    "categories = [\"politics\", \"science\", \"sports\"]\n",
    "\n",
    "# Predict the output\n",
    "output = classifier(text, categories)\n",
    "\n",
    "# Print the top label and its score\n",
    "print(f\"Top Label: {output['labels'][0]} with score: {output['scores'][0]}\")"
   ]
  },
  {
   "cell_type": "markdown",
   "id": "07d3b1f0",
   "metadata": {},
   "source": [
    "# Text summarization"
   ]
  },
  {
   "cell_type": "markdown",
   "id": "98848a18",
   "metadata": {},
   "source": [
    "## Summarizing long text"
   ]
  },
  {
   "cell_type": "code",
   "execution_count": 4,
   "id": "342719f1",
   "metadata": {},
   "outputs": [
    {
     "name": "stderr",
     "output_type": "stream",
     "text": [
      "Device set to use cpu\n"
     ]
    },
    {
     "name": "stdout",
     "output_type": "stream",
     "text": [
      "Original text length: 829\n",
      "Summary length: 473\n",
      "Summary: Greece has many islands, with estimates ranging from somewhere around 1,200 to 6,000 depending on the minimum size to take into account. The number of inhabited islands is variously cited as between 166 and 227. The Greek islands are traditionally grouped into the following clusters: the Argo-Saronic Islands in the Saronic Gulf near Athens; the Cyclades, a large but dense collection occupying the central part of the Aegean Sea; the North Aegesan islands, an loose group\n"
     ]
    }
   ],
   "source": [
    "from transformers import pipeline \n",
    "\n",
    "original_text = \"\"\"\n",
    "Greece has many islands, with estimates ranging from somewhere around 1,200 to 6,000, depending on the minimum size to take into account. The number of inhabited islands is variously cited as between 166 and 227.\n",
    "The Greek islands are traditionally grouped into the following clusters: the Argo-Saronic Islands in the Saronic Gulf near Athens; the Cyclades, a large but dense collection occupying the central part of the Aegean Sea; the North Aegean islands, a loose grouping off the west coast of Turkey; the Dodecanese, another loose collection in the southeast between Crete and Turkey; the Sporades, a small tight group off the coast of Euboea; and the Ionian Islands, chiefly located to the west of the mainland in the Ionian Sea. Crete with its surrounding islets and Euboea are traditionally excluded from this grouping.\n",
    "\"\"\"\n",
    "\n",
    "# Create the summarization pipeline\n",
    "summarizer = pipeline(task=\"summarization\", model=\"cnicu/t5-small-booksum\")\n",
    "\n",
    "# Summarize the text\n",
    "summary_text = summarizer(original_text)\n",
    "\n",
    "# Compare the length\n",
    "print(f\"Original text length: {len(original_text)}\")\n",
    "print(f\"Summary length: {len(summary_text[0]['summary_text'])}\")\n",
    "print(f\"Summary: {summary_text[0]['summary_text']}\")"
   ]
  },
  {
   "cell_type": "markdown",
   "id": "020dcb05",
   "metadata": {},
   "source": [
    "## Adjusting the summary length"
   ]
  },
  {
   "cell_type": "code",
   "execution_count": 5,
   "id": "ceb2fef7",
   "metadata": {},
   "outputs": [
    {
     "name": "stderr",
     "output_type": "stream",
     "text": [
      "Device set to use cpu\n"
     ]
    },
    {
     "name": "stdout",
     "output_type": "stream",
     "text": [
      "Greece has many islands, with estimates ranging from\n"
     ]
    }
   ],
   "source": [
    "from transformers import pipeline \n",
    "\n",
    "# Generate a summary of original_text between 1 and 10 tokens\n",
    "short_summarizer = pipeline(task=\"summarization\", model=\"cnicu/t5-small-booksum\", min_new_tokens=1, max_new_tokens=10)\n",
    "\n",
    "short_summary_text = short_summarizer(original_text)\n",
    "\n",
    "print(short_summary_text[0][\"summary_text\"])"
   ]
  },
  {
   "cell_type": "code",
   "execution_count": 6,
   "id": "22c45a4e",
   "metadata": {},
   "outputs": [
    {
     "name": "stderr",
     "output_type": "stream",
     "text": [
      "Device set to use cpu\n"
     ]
    },
    {
     "name": "stdout",
     "output_type": "stream",
     "text": [
      "Greece has many islands, with estimates ranging from somewhere around 1,200 to 6,000 depending on the minimum size to take into account. The number of inhabited islands is variously cited as between 166 and 227. The Greek islands are traditionally grouped into the following clusters: the Argo-Saronic Islands in the Saronic Gulf near Athens; the Cyclades, a large but dense collection occupying the central part of the Aegean Sea; the North Aegesan islands, an loose group\n"
     ]
    }
   ],
   "source": [
    "from transformers import pipeline \n",
    "\n",
    "# Repeat for a summary between 50 and 150 tokens\n",
    "long_summarizer = pipeline(task=\"summarization\", model=\"cnicu/t5-small-booksum\", min_new_tokens=50, max_new_tokens=150)\n",
    "\n",
    "long_summary_text = long_summarizer(original_text)\n",
    "\n",
    "print(long_summary_text[0][\"summary_text\"])"
   ]
  },
  {
   "cell_type": "markdown",
   "id": "d9b254a0",
   "metadata": {},
   "source": [
    "# AutoModels and Tokenizers"
   ]
  },
  {
   "cell_type": "markdown",
   "id": "bf3abdc4",
   "metadata": {},
   "source": [
    "## Tokenizing text with AutoTokenizer"
   ]
  },
  {
   "cell_type": "code",
   "execution_count": 7,
   "id": "8a6b6d71",
   "metadata": {},
   "outputs": [
    {
     "name": "stdout",
     "output_type": "stream",
     "text": [
      "Tokenized output: ['ai', ':', 'making', 'robots', 'smarter', 'and', 'humans', 'la', '##zier', '!']\n"
     ]
    }
   ],
   "source": [
    "# Import necessary library for tokenization\n",
    "from transformers import AutoTokenizer\n",
    "\n",
    "# Load the tokenizer\n",
    "tokenizer = AutoTokenizer.from_pretrained(\"distilbert-base-uncased-finetuned-sst-2-english\")\n",
    "\n",
    "# Split input text into tokens\n",
    "tokens = tokenizer.tokenize(\"AI: Making robots smarter and humans lazier!\")\n",
    "\n",
    "# Display the tokenized output\n",
    "print(f\"Tokenized output: {tokens}\")"
   ]
  },
  {
   "cell_type": "markdown",
   "id": "a4dfa4e9",
   "metadata": {},
   "source": [
    "## Using AutoClasses"
   ]
  },
  {
   "cell_type": "code",
   "execution_count": 8,
   "id": "f46a0922",
   "metadata": {},
   "outputs": [
    {
     "name": "stderr",
     "output_type": "stream",
     "text": [
      "Device set to use cpu\n"
     ]
    },
    {
     "name": "stdout",
     "output_type": "stream",
     "text": [
      "Sentiment using AutoClasses: POSITIVE\n"
     ]
    }
   ],
   "source": [
    "from transformers import AutoModelForSequenceClassification, AutoTokenizer\n",
    "\n",
    "# Download the model and tokenizer\n",
    "my_model = AutoModelForSequenceClassification.from_pretrained(\"distilbert-base-uncased-finetuned-sst-2-english\")\n",
    "my_tokenizer = AutoTokenizer.from_pretrained(\"distilbert-base-uncased-finetuned-sst-2-english\")\n",
    "\n",
    "# Create the pipeline\n",
    "my_pipeline = pipeline(task=\"sentiment-analysis\", model=my_model, tokenizer=my_tokenizer)\n",
    "\n",
    "# Predict the sentiment\n",
    "output = my_pipeline(\"This course is pretty good, I guess.\")\n",
    "print(f\"Sentiment using AutoClasses: {output[0]['label']}\")"
   ]
  }
 ],
 "metadata": {
  "kernelspec": {
   "display_name": "hugging-face-fundamentals",
   "language": "python",
   "name": "python3"
  },
  "language_info": {
   "codemirror_mode": {
    "name": "ipython",
    "version": 3
   },
   "file_extension": ".py",
   "mimetype": "text/x-python",
   "name": "python",
   "nbconvert_exporter": "python",
   "pygments_lexer": "ipython3",
   "version": "3.12.11"
  }
 },
 "nbformat": 4,
 "nbformat_minor": 5
}
