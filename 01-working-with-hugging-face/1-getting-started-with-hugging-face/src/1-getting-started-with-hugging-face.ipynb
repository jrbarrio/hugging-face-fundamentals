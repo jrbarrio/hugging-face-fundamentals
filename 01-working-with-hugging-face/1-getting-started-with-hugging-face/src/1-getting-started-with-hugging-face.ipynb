{
 "cells": [
  {
   "cell_type": "markdown",
   "id": "7d02f376",
   "metadata": {},
   "source": [
    "# Building a text generation pipeline"
   ]
  },
  {
   "cell_type": "markdown",
   "id": "3c362327",
   "metadata": {},
   "source": [
    "## Building a text generation pipeline"
   ]
  },
  {
   "cell_type": "code",
   "execution_count": 12,
   "id": "c3dd0923",
   "metadata": {},
   "outputs": [
    {
     "name": "stderr",
     "output_type": "stream",
     "text": [
      "Device set to use cpu\n",
      "Setting `pad_token_id` to `eos_token_id`:50256 for open-end generation.\n"
     ]
    },
    {
     "name": "stdout",
     "output_type": "stream",
     "text": [
      "What if AI could make all the decisions, and then try to\n",
      "What if AI had gone out of its way to help us all\n"
     ]
    }
   ],
   "source": [
    "from transformers import pipeline \n",
    "\n",
    "gpt2_pipeline = pipeline(task=\"text-generation\", model=\"openai-community/gpt2\")\n",
    "\n",
    "# Generate three text outputs with a maximum length of 10 tokens\n",
    "results = gpt2_pipeline(\"What if AI\", max_new_tokens=10, num_return_sequences=2)\n",
    "\n",
    "for result in results:\n",
    "    print(result['generated_text'])"
   ]
  },
  {
   "cell_type": "markdown",
   "id": "ae90128d",
   "metadata": {},
   "source": [
    "## Inference providers"
   ]
  },
  {
   "cell_type": "code",
   "execution_count": 13,
   "id": "4a438f73",
   "metadata": {},
   "outputs": [
    {
     "name": "stdout",
     "output_type": "stream",
     "text": [
      "ChatCompletionOutputMessage(role='assistant', content='The capital of France is **Paris**.  \\n\\nParis is known for its iconic landmarks such as the **Eiffel Tower**, **Louvre Museum**, and **Notre-Dame Cathedral**. It is also a major global hub for art, fashion, and culture.  \\n\\nWould you like more details about Paris or France? 😊', reasoning=None, tool_call_id=None, tool_calls=[])\n"
     ]
    }
   ],
   "source": [
    "import os \n",
    "from huggingface_hub import InferenceClient\n",
    "\n",
    "client = InferenceClient(\n",
    "  provider=\"together\",\n",
    "  api_key=os.environ[\"HUGGING_FACE_TOKEN\"], \n",
    ") \n",
    "\n",
    "completion = client.chat.completions.create(\n",
    "  model=\"deepseek-ai/DeepSeek-V3\",\n",
    "  messages=[\n",
    "    {\n",
    "      \"role\": \"user\",\n",
    "      \"content\": \"What is the capital of France?\"\n",
    "    }\n",
    "  ],\n",
    ")\n",
    "\n",
    "print(completion.choices[0].message)"
   ]
  },
  {
   "cell_type": "markdown",
   "id": "e1888439",
   "metadata": {},
   "source": [
    "# Hugging Face Datasets"
   ]
  },
  {
   "cell_type": "markdown",
   "id": "3b7c38ce",
   "metadata": {},
   "source": [
    "## Loading datasets"
   ]
  },
  {
   "cell_type": "code",
   "execution_count": 14,
   "id": "9c91f48d",
   "metadata": {},
   "outputs": [
    {
     "data": {
      "application/vnd.jupyter.widget-view+json": {
       "model_id": "bddb6ca0ae904c808ab2ce911c2aa9b8",
       "version_major": 2,
       "version_minor": 0
      },
      "text/plain": [
       "Resolving data files:   0%|          | 0/55 [00:00<?, ?it/s]"
      ]
     },
     "metadata": {},
     "output_type": "display_data"
    },
    {
     "data": {
      "application/vnd.jupyter.widget-view+json": {
       "model_id": "52c32306640d47248802e5837d36c116",
       "version_major": 2,
       "version_minor": 0
      },
      "text/plain": [
       "Resolving data files:   0%|          | 0/55 [00:00<?, ?it/s]"
      ]
     },
     "metadata": {},
     "output_type": "display_data"
    },
    {
     "data": {
      "application/vnd.jupyter.widget-view+json": {
       "model_id": "1de52afea5d645b288d675b34b6f1da3",
       "version_major": 2,
       "version_minor": 0
      },
      "text/plain": [
       "Loading dataset shards:   0%|          | 0/55 [00:00<?, ?it/s]"
      ]
     },
     "metadata": {},
     "output_type": "display_data"
    },
    {
     "name": "stdout",
     "output_type": "stream",
     "text": [
      "Dataset({\n",
      "    features: ['text'],\n",
      "    num_rows: 1122\n",
      "})\n"
     ]
    }
   ],
   "source": [
    "from datasets import load_dataset\n",
    "\n",
    "data = load_dataset(\"IVN-RIN/BioBERT_Italian\", split=\"train\")  # Filter for pattern \" bella \" \n",
    "filtered = data.filter(lambda row: \" bella \" in row['text']) \n",
    "print(filtered) "
   ]
  },
  {
   "cell_type": "markdown",
   "id": "a26e50cf",
   "metadata": {},
   "source": [
    "## Manipulating datasets"
   ]
  },
  {
   "cell_type": "code",
   "execution_count": 15,
   "id": "fc794a45",
   "metadata": {},
   "outputs": [
    {
     "name": "stdout",
     "output_type": "stream",
     "text": [
      "Dataset({\n",
      "    features: ['text'],\n",
      "    num_rows: 2\n",
      "})\n",
      "Peptidi mirati reiterati sulla superficie delle nanoparticelle promuovono in modo significativo la consegna mirata del gene del fattore di crescita endoteliale vascolare alle cellule staminali.I vettori di consegna genica non virale sono molto promettenti per il gene terapia a causa dei problemi di sicurezza con i vettori virali. Tuttavia, l'applicazione di vettori non virali è ostacolata dalla loro bassa efficienza di trasfezione. Qui, per affrontare questa sfida, abbiamo sviluppato un vettore non virale che integra lipidi, sistema di trasposoni della bella addormentata e 8-mer peptidi mirati alle cellule staminali per una consegna genica sicura ed efficiente alle cellule staminali mesenchimali (MSC) difficili da trasfettare. I peptidi mirati alle MSC 8-mer, quando reiterati sinteticamente in tre pieghe e presentati chimicamente sulla superficie, hanno promosso in modo significativo il lipide risultante nanoparticelle basate su nanoparticelle (LBN) per fornire il gene VEGF nelle MSC con un'elevata efficienza di trasfezione (∼52%) e un'espressione genica di lunga durata (per più di 170 ore) rispetto a non peptidi ripetuti. Tuttavia, le ripetute cellule staminali che prendono di mira i peptidi non consentono il trasferimento genico altamente efficiente ad altre cellule di controllo. Questo lavoro suggerisce che la presentazione superficiale dei ripetuti peptidi mirati alle cellule staminali sui vettori non virali è un metodo promettente per migliorare l'efficienza della trasfezione genica non virale specifica delle cellule nelle cellule staminali. \n"
     ]
    }
   ],
   "source": [
    "# Select the first two rows\n",
    "sliced = filtered.select(range(2))\n",
    "print(sliced)\n",
    "\n",
    "# Extract the 'text' for the first row \n",
    "print(sliced[0]['text']) "
   ]
  }
 ],
 "metadata": {
  "kernelspec": {
   "display_name": "hugging-face-fundamentals",
   "language": "python",
   "name": "python3"
  },
  "language_info": {
   "codemirror_mode": {
    "name": "ipython",
    "version": 3
   },
   "file_extension": ".py",
   "mimetype": "text/x-python",
   "name": "python",
   "nbconvert_exporter": "python",
   "pygments_lexer": "ipython3",
   "version": "3.12.11"
  }
 },
 "nbformat": 4,
 "nbformat_minor": 5
}
