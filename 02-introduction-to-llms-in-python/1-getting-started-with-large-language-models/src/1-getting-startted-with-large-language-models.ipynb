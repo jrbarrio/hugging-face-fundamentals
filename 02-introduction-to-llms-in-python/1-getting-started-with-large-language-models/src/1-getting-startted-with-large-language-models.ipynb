{
 "cells": [
  {
   "cell_type": "markdown",
   "id": "f3ce4479",
   "metadata": {},
   "source": [
    "# Introduction to Large Language Models (LLMs)"
   ]
  },
  {
   "cell_type": "markdown",
   "id": "0d125697",
   "metadata": {},
   "source": [
    "## Using a pipeline for summarization"
   ]
  },
  {
   "cell_type": "code",
   "execution_count": 20,
   "id": "a9a6bff2",
   "metadata": {},
   "outputs": [
    {
     "name": "stderr",
     "output_type": "stream",
     "text": [
      "Device set to use cpu\n",
      "Both `max_new_tokens` (=256) and `max_length`(=50) seem to have been set. `max_new_tokens` will take precedence. Please refer to the documentation for more information. (https://huggingface.co/docs/transformers/main/en/main_classes/text_generation)\n"
     ]
    },
    {
     "name": "stdout",
     "output_type": "stream",
     "text": [
      "the Eiffel Tower is 324 metres (1,063 ft) tall, about the same height as an 81-storey building, and the tallest structure in Paris. Its base is square, measuring 125 metres on each side. It is the second tallest free-standing structure in France after the Millau Viaduct.\n"
     ]
    }
   ],
   "source": [
    "from transformers import pipeline\n",
    "\n",
    "long_text = \"\"\"\n",
    "The tower is 324 metres (1,063 ft) tall, about the same height as an 81-storey building, and the tallest structure in Paris. Its base is square, measuring 125 metres (410 ft) on each side. During its construction, the Eiffel Tower surpassed the Washington Monument to become the tallest man-made structure in the world, a title it held for 41 years until the Chrysler Building in New York City was finished in 1930. It was the first structure to reach a height of 300 metres. Due to the addition of a broadcasting aerial at the top of the tower in 1957, it is now taller than the Chrysler Building by 5.2 metres (17 ft). Excluding transmitters, the Eiffel Tower is the second tallest free-standing structure in France after the Millau Viaduct.\n",
    "\"\"\"\n",
    "\n",
    "# Load the model pipeline\n",
    "summarizer = pipeline(task=\"summarization\", model=\"cnicu/t5-small-booksum\")\n",
    "\n",
    "# Pass the long text to the model\n",
    "output = summarizer(long_text, max_length=50)\n",
    "\n",
    "# Access and print the summarized text\n",
    "print(output[0]['summary_text'])"
   ]
  },
  {
   "cell_type": "markdown",
   "id": "f0334c30",
   "metadata": {},
   "source": [
    "# Using pre-trained LLMs"
   ]
  },
  {
   "cell_type": "markdown",
   "id": "f1ebdf65",
   "metadata": {},
   "source": [
    "## Generating text"
   ]
  },
  {
   "cell_type": "code",
   "execution_count": 21,
   "id": "c32df122",
   "metadata": {},
   "outputs": [
    {
     "name": "stderr",
     "output_type": "stream",
     "text": [
      "Device set to use cpu\n",
      "Both `max_new_tokens` (=256) and `max_length`(=150) seem to have been set. `max_new_tokens` will take precedence. Please refer to the documentation for more information. (https://huggingface.co/docs/transformers/main/en/main_classes/text_generation)\n"
     ]
    },
    {
     "name": "stdout",
     "output_type": "stream",
     "text": [
      "Customer review:\n",
      "\n",
      "I had a wonderful stay at the Riverview Hotel! The staff were incredibly attentive and the amenities were top-notch. The only hiccup was a slight delay in room service, but that didn't overshadow the fantastic experience I had.\n",
      "\n",
      "\n",
      "Hotel reponse to the customer:\n",
      "Dear valued customer, I am glad to hear you had a good stay with us. I am so pleased to have found Riverview. I would highly recommend Riverview!\n",
      "\n",
      "\n",
      "Review of the Riverview Hotel:\n",
      "\n",
      "I was really excited to come here. The rooms are small and not as comfortable as the others. I used to come here on a regular basis, but I was able to get the rooms to last me a couple years. We were able to get the rooms to last us a couple of years so we could go back to enjoy the same great view I had over the years. The staff also is super friendly. I will definitely be coming back.\n",
      "\n",
      "\n",
      "Review of a hotel:\n",
      "\n",
      "I had a great stay at the Riverview Hotel. The hotel is a modern, modern environment. Our guest list included a new chef, a new chef's assistant, a new hotel manager, and a new chef's assistant! The entire staff was very helpful, and the food was delicious. The ambience was beautiful. I had the perfect amount of time to enjoy our food and drink. It was so good to come to Riverview!\n",
      "\n",
      "\n",
      "Review of a hotel:\n",
      "\n",
      "I really wanted to stay at Riverview but I was nervous about the price. We were told the room was $45 a night and was $100/\n"
     ]
    }
   ],
   "source": [
    "from transformers import pipeline\n",
    "\n",
    "text = \"\"\"\n",
    "I had a wonderful stay at the Riverview Hotel! The staff were incredibly attentive and the amenities were top-notch. The only hiccup was a slight delay in room service, but that didn't overshadow the fantastic experience I had.\n",
    "\"\"\"\n",
    "\n",
    "# Instantiate the pipeline\n",
    "generator = pipeline(task=\"text-generation\", model=\"gpt2\")\n",
    "\n",
    "response = \"Dear valued customer, I am glad to hear you had a good stay with us.\"\n",
    "\n",
    "# Complete the prompt\n",
    "prompt = f\"Customer review:\\n{text}\\n\\nHotel reponse to the customer:\\n{response}\"\n",
    "\n",
    "# Complete the model pipeline\n",
    "outputs = generator(prompt, max_length=150, pad_token_id=generator.tokenizer.eos_token_id, truncation=True)\n",
    "\n",
    "print(outputs[0][\"generated_text\"])"
   ]
  },
  {
   "cell_type": "markdown",
   "id": "e2b0097d",
   "metadata": {},
   "source": [
    "## Translating text"
   ]
  },
  {
   "cell_type": "code",
   "execution_count": 22,
   "id": "98d0e0b3",
   "metadata": {},
   "outputs": [
    {
     "name": "stderr",
     "output_type": "stream",
     "text": [
      "/home/jorge/.pyenv/versions/hugging-face-fundamentals/lib/python3.12/site-packages/transformers/models/marian/tokenization_marian.py:175: UserWarning: Recommended: pip install sacremoses.\n",
      "  warnings.warn(\"Recommended: pip install sacremoses.\")\n",
      "Device set to use cpu\n"
     ]
    },
    {
     "name": "stdout",
     "output_type": "stream",
     "text": [
      "This course on LLMs is getting very interesting.\n"
     ]
    }
   ],
   "source": [
    "from transformers import pipeline\n",
    "\n",
    "spanish_text = \"Este curso sobre LLMs se está poniendo muy interesante\"\n",
    "\n",
    "# Define the pipeline\n",
    "translator = pipeline(task=\"translation_es_to_en\", model=\"Helsinki-NLP/opus-mt-es-en\")\n",
    "\n",
    "# Translate the Spanish text\n",
    "translations = translator(spanish_text, clean_up_tokenization_spaces=True)\n",
    "\n",
    "print(translations[0][\"translation_text\"])"
   ]
  },
  {
   "cell_type": "markdown",
   "id": "b62f92f1",
   "metadata": {},
   "source": [
    "# Understanding the transformer"
   ]
  },
  {
   "cell_type": "markdown",
   "id": "ab26fbd9",
   "metadata": {},
   "source": [
    "## Using the correct model structure"
   ]
  },
  {
   "cell_type": "code",
   "execution_count": 23,
   "id": "f2afde7c",
   "metadata": {},
   "outputs": [
    {
     "name": "stderr",
     "output_type": "stream",
     "text": [
      "Device set to use cpu\n"
     ]
    },
    {
     "name": "stdout",
     "output_type": "stream",
     "text": [
      "Leonardo da Vinci\n"
     ]
    }
   ],
   "source": [
    "from transformers import pipeline\n",
    "\n",
    "text = \"\"\"\n",
    "The Mona Lisa is a half-length portrait painting by Italian artist Leonardo da Vinci. Considered an archetypal masterpiece of the Italian Renaissance, it has been described as the most known, visited, talked about, and sung about work of art in the world. The painting's novel qualities include the subject's enigmatic expression, the monumentality of the composition, and the subtle modeling of forms.\n",
    "\"\"\"\n",
    "question = \"Who painted the Mona Lisa?\"\n",
    "\n",
    "# Define the appropriate model\n",
    "qa = pipeline(task=\"question-answering\", model=\"distilbert-base-uncased-distilled-squad\")\n",
    "\n",
    "output = qa(question=question, context=text)\n",
    "print(output['answer'])"
   ]
  },
  {
   "cell_type": "code",
   "execution_count": 25,
   "id": "6cf391d6",
   "metadata": {},
   "outputs": [
    {
     "name": "stderr",
     "output_type": "stream",
     "text": [
      "Some weights of GPT2ForQuestionAnswering were not initialized from the model checkpoint at gpt2 and are newly initialized: ['qa_outputs.bias', 'qa_outputs.weight']\n",
      "You should probably TRAIN this model on a down-stream task to be able to use it for predictions and inference.\n",
      "Device set to use cpu\n"
     ]
    },
    {
     "name": "stdout",
     "output_type": "stream",
     "text": [
      "\n",
      "The Mona Lisa is a half-length portrait painting by Italian artist\n"
     ]
    }
   ],
   "source": [
    "from transformers import pipeline\n",
    "\n",
    "text = \"\"\"\n",
    "The Mona Lisa is a half-length portrait painting by Italian artist Leonardo da Vinci. Considered an archetypal masterpiece of the Italian Renaissance, it has been described as the most known, visited, talked about, and sung about work of art in the world. The painting's novel qualities include the subject's enigmatic expression, the monumentality of the composition, and the subtle modeling of forms.\n",
    "\"\"\"\n",
    "question = \"Who painted the Mona Lisa?\"\n",
    "\n",
    "# Define the appropriate model\n",
    "qa = pipeline(task=\"question-answering\", model=\"gpt2\")\n",
    "\n",
    "input_text = f\"Context: {text}\\n\\nQuestion: {question}\\n\\nAnswer:\"\n",
    "\n",
    "output = qa(question=question, context=text, max_length=150)\n",
    "print(output['answer'])"
   ]
  }
 ],
 "metadata": {
  "kernelspec": {
   "display_name": "hugging-face-fundamentals",
   "language": "python",
   "name": "python3"
  },
  "language_info": {
   "codemirror_mode": {
    "name": "ipython",
    "version": 3
   },
   "file_extension": ".py",
   "mimetype": "text/x-python",
   "name": "python",
   "nbconvert_exporter": "python",
   "pygments_lexer": "ipython3",
   "version": "3.13.7"
  }
 },
 "nbformat": 4,
 "nbformat_minor": 5
}
