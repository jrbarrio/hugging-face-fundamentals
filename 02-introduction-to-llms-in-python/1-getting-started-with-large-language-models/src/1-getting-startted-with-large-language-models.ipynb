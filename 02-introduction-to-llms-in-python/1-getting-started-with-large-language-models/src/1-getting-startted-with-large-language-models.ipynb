{
 "cells": [
  {
   "cell_type": "markdown",
   "id": "f3ce4479",
   "metadata": {},
   "source": [
    "# Introduction to Large Language Models (LLMs)"
   ]
  },
  {
   "cell_type": "markdown",
   "id": "0d125697",
   "metadata": {},
   "source": [
    "## Using a pipeline for summarization"
   ]
  },
  {
   "cell_type": "code",
   "execution_count": 1,
   "id": "a9a6bff2",
   "metadata": {},
   "outputs": [
    {
     "name": "stderr",
     "output_type": "stream",
     "text": [
      "Device set to use cpu\n",
      "Both `max_new_tokens` (=256) and `max_length`(=50) seem to have been set. `max_new_tokens` will take precedence. Please refer to the documentation for more information. (https://huggingface.co/docs/transformers/main/en/main_classes/text_generation)\n"
     ]
    },
    {
     "name": "stdout",
     "output_type": "stream",
     "text": [
      "the Eiffel Tower is 324 metres (1,063 ft) tall, about the same height as an 81-storey building, and the tallest structure in Paris. Its base is square, measuring 125 metres on each side. It is the second tallest free-standing structure in France after the Millau Viaduct.\n"
     ]
    }
   ],
   "source": [
    "from transformers import pipeline\n",
    "\n",
    "long_text = \"\"\"\n",
    "The tower is 324 metres (1,063 ft) tall, about the same height as an 81-storey building, and the tallest structure in Paris. Its base is square, measuring 125 metres (410 ft) on each side. During its construction, the Eiffel Tower surpassed the Washington Monument to become the tallest man-made structure in the world, a title it held for 41 years until the Chrysler Building in New York City was finished in 1930. It was the first structure to reach a height of 300 metres. Due to the addition of a broadcasting aerial at the top of the tower in 1957, it is now taller than the Chrysler Building by 5.2 metres (17 ft). Excluding transmitters, the Eiffel Tower is the second tallest free-standing structure in France after the Millau Viaduct.\n",
    "\"\"\"\n",
    "\n",
    "# Load the model pipeline\n",
    "summarizer = pipeline(task=\"summarization\", model=\"cnicu/t5-small-booksum\")\n",
    "\n",
    "# Pass the long text to the model\n",
    "output = summarizer(long_text, max_length=50)\n",
    "\n",
    "# Access and print the summarized text\n",
    "print(output[0]['summary_text'])"
   ]
  },
  {
   "cell_type": "markdown",
   "id": "f0334c30",
   "metadata": {},
   "source": [
    "# Using pre-trained LLMs"
   ]
  },
  {
   "cell_type": "markdown",
   "id": "f1ebdf65",
   "metadata": {},
   "source": [
    "## Generating text"
   ]
  },
  {
   "cell_type": "code",
   "execution_count": 2,
   "id": "c32df122",
   "metadata": {},
   "outputs": [
    {
     "name": "stderr",
     "output_type": "stream",
     "text": [
      "Device set to use cpu\n",
      "Both `max_new_tokens` (=256) and `max_length`(=150) seem to have been set. `max_new_tokens` will take precedence. Please refer to the documentation for more information. (https://huggingface.co/docs/transformers/main/en/main_classes/text_generation)\n"
     ]
    },
    {
     "name": "stdout",
     "output_type": "stream",
     "text": [
      "Customer review:\n",
      "\n",
      "I had a wonderful stay at the Riverview Hotel! The staff were incredibly attentive and the amenities were top-notch. The only hiccup was a slight delay in room service, but that didn't overshadow the fantastic experience I had.\n",
      "\n",
      "\n",
      "Hotel reponse to the customer:\n",
      "Dear valued customer, I am glad to hear you had a good stay with us. We've had a number of guests who were very happy and highly recommend this location and will be coming back again.\n",
      "\n",
      "\n",
      "P.S. I received an email from my booking agent in the mail shortly after we booked our hotel. I have waited for over a year and received no response from the agent.\n",
      "\n",
      "I have to say, I am so happy to have found this place! It was a pleasure to meet so many people, and it's been a pleasure to stay here and experience the world with them. And it's been a very fun stay. I highly recommend this place.\n",
      "\n",
      "I have been here for years & I am so happy to have been able to get a great stay with the Riverview Hotel. We've been here for years and this is the best place they have. I wouldn't be surprised if they also had their own private island in the bay. They have a great view all around and are really well priced. I highly recommend this place.\n",
      "\n",
      "The Riverview is a super cool and authentic place in Portland. The food, decor and atmosphere are truly special. We received a couple of drinks and a few drinks to go and that was all. The staff is very friendly and helpful throughout the meal, and they have a\n"
     ]
    }
   ],
   "source": [
    "from transformers import pipeline\n",
    "\n",
    "text = \"\"\"\n",
    "I had a wonderful stay at the Riverview Hotel! The staff were incredibly attentive and the amenities were top-notch. The only hiccup was a slight delay in room service, but that didn't overshadow the fantastic experience I had.\n",
    "\"\"\"\n",
    "\n",
    "# Instantiate the pipeline\n",
    "generator = pipeline(task=\"text-generation\", model=\"gpt2\")\n",
    "\n",
    "response = \"Dear valued customer, I am glad to hear you had a good stay with us.\"\n",
    "\n",
    "# Complete the prompt\n",
    "prompt = f\"Customer review:\\n{text}\\n\\nHotel reponse to the customer:\\n{response}\"\n",
    "\n",
    "# Complete the model pipeline\n",
    "outputs = generator(prompt, max_length=150, pad_token_id=generator.tokenizer.eos_token_id, truncation=True)\n",
    "\n",
    "print(outputs[0][\"generated_text\"])"
   ]
  },
  {
   "cell_type": "markdown",
   "id": "e2b0097d",
   "metadata": {},
   "source": [
    "## Translating text"
   ]
  },
  {
   "cell_type": "code",
   "execution_count": 3,
   "id": "98d0e0b3",
   "metadata": {},
   "outputs": [
    {
     "name": "stderr",
     "output_type": "stream",
     "text": [
      "/home/jorge/.pyenv/versions/hugging-face-fundamentals/lib/python3.12/site-packages/transformers/models/marian/tokenization_marian.py:175: UserWarning: Recommended: pip install sacremoses.\n",
      "  warnings.warn(\"Recommended: pip install sacremoses.\")\n",
      "Device set to use cpu\n"
     ]
    },
    {
     "name": "stdout",
     "output_type": "stream",
     "text": [
      "This course on LLMs is getting very interesting.\n"
     ]
    }
   ],
   "source": [
    "from transformers import pipeline\n",
    "\n",
    "spanish_text = \"Este curso sobre LLMs se está poniendo muy interesante\"\n",
    "\n",
    "# Define the pipeline\n",
    "translator = pipeline(task=\"translation_es_to_en\", model=\"Helsinki-NLP/opus-mt-es-en\")\n",
    "\n",
    "# Translate the Spanish text\n",
    "translations = translator(spanish_text, clean_up_tokenization_spaces=True)\n",
    "\n",
    "print(translations[0][\"translation_text\"])"
   ]
  },
  {
   "cell_type": "markdown",
   "id": "b62f92f1",
   "metadata": {},
   "source": []
  }
 ],
 "metadata": {
  "kernelspec": {
   "display_name": "hugging-face-fundamentals",
   "language": "python",
   "name": "python3"
  },
  "language_info": {
   "codemirror_mode": {
    "name": "ipython",
    "version": 3
   },
   "file_extension": ".py",
   "mimetype": "text/x-python",
   "name": "python",
   "nbconvert_exporter": "python",
   "pygments_lexer": "ipython3",
   "version": "3.12.11"
  }
 },
 "nbformat": 4,
 "nbformat_minor": 5
}
