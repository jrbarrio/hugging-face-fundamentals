{
 "cells": [
  {
   "cell_type": "markdown",
   "id": "5c93881e",
   "metadata": {},
   "source": [
    "# Preparing for fine-tunning"
   ]
  },
  {
   "cell_type": "markdown",
   "id": "189ed8d1",
   "metadata": {},
   "source": [
    "## Tokenizing text"
   ]
  },
  {
   "cell_type": "code",
   "execution_count": null,
   "id": "2d7aea6e",
   "metadata": {},
   "outputs": [],
   "source": [
    "from transformers import AutoModelForSequenceClassification, AutoTokenizer\n",
    "\n",
    "from datasets import load_dataset \n",
    "\n",
    "train_data = load_dataset(\"imdb\", split=\"train\") \n",
    "train_data = train_data.shard(num_shards=4, index=0) \n",
    "test_data = load_dataset(\"imdb\", split=\"test\") \n",
    "test_data = test_data.shard(num_shards=4, index=0)\n",
    "\n",
    "# Load the model and tokenizer\n",
    "model = AutoModelForSequenceClassification.from_pretrained(\"bert-base-uncased\") \n",
    "tokenizer = AutoTokenizer.from_pretrained(\"bert-base-uncased\")\n",
    "\n",
    "# Tokenize the data\n",
    "tokenized_training_data = tokenizer(str(train_data[\"text\"]), return_tensors=\"pt\", padding=True, truncation=True, max_length=64)\n",
    "tokenized_test_data = tokenizer(str(test_data[\"text\"]), return_tensors=\"pt\", padding=True, truncation=True, max_length=64)\n",
    "\n",
    "print(tokenized_training_data)\n",
    "print(tokenized_test_data)"
   ]
  },
  {
   "cell_type": "markdown",
   "id": "bda1670b",
   "metadata": {},
   "source": [
    "## Mapping tokenization"
   ]
  },
  {
   "cell_type": "code",
   "execution_count": null,
   "id": "dc600f1b",
   "metadata": {},
   "outputs": [],
   "source": [
    "# Complete the function\n",
    "def tokenize_function(data):\n",
    "    return tokenizer(data[\"text\"], \n",
    "                     return_tensors=\"pt\", \n",
    "                     padding=True, \n",
    "                     truncation=True, \n",
    "                     max_length=64)\n",
    "\n",
    "tokenized_in_batches = train_data.map(tokenize_function, batched=True)\n",
    "\n",
    "print(tokenized_in_batches)"
   ]
  },
  {
   "cell_type": "code",
   "execution_count": null,
   "id": "8968ca82",
   "metadata": {},
   "outputs": [],
   "source": [
    "# Complete the function\n",
    "def tokenize_function(data):\n",
    "    return tokenizer(data[\"text\"], \n",
    "                     return_tensors=\"pt\", \n",
    "                     padding=True, \n",
    "                     truncation=True, \n",
    "                     max_length=64)\n",
    "\n",
    "# Tokenize row by row\n",
    "tokenized_by_row = train_data.map(tokenize_function, batched=False)\n",
    "\n",
    "print(tokenized_by_row)"
   ]
  },
  {
   "cell_type": "markdown",
   "id": "51eff489",
   "metadata": {},
   "source": [
    "# Fine-tunning through training"
   ]
  },
  {
   "cell_type": "markdown",
   "id": "32a38359",
   "metadata": {},
   "source": [
    "## Setting up training arguments"
   ]
  },
  {
   "cell_type": "code",
   "execution_count": null,
   "id": "3702765b",
   "metadata": {},
   "outputs": [],
   "source": [
    "from transformers import Trainer,  TrainingArguments\n",
    "\n",
    "# Set up an instance of TrainingArguments\n",
    "training_args = TrainingArguments(   \n",
    "  output_dir=\"./finetuned\",\n",
    "  eval_strategy=\"epoch\",\n",
    "  num_train_epochs=3,   \n",
    "  learning_rate=2e-5,     \n",
    "  per_device_train_batch_size=8,   \n",
    "  per_device_eval_batch_size=8,\n",
    "  weight_decay=0.01, \n",
    ")"
   ]
  },
  {
   "cell_type": "markdown",
   "id": "cca5a5ad",
   "metadata": {},
   "source": [
    "## Setting up the trainer"
   ]
  },
  {
   "cell_type": "code",
   "execution_count": null,
   "id": "92053629",
   "metadata": {},
   "outputs": [],
   "source": [
    "# Set up the trainer object\n",
    "trainer = Trainer(\n",
    "    model=model,\n",
    "    # Assign the training arguments and tokenizer\n",
    "    args=training_args,\n",
    "    train_dataset=tokenized_training_data,\n",
    "    eval_dataset=tokenized_test_data,\n",
    "    tokenizer=tokenizer\n",
    ")\n",
    "\n",
    "# Train the model\n",
    "trainer.train()"
   ]
  },
  {
   "cell_type": "markdown",
   "id": "56739583",
   "metadata": {},
   "source": [
    "## Using the fine-tuned model"
   ]
  },
  {
   "cell_type": "code",
   "execution_count": null,
   "id": "febeeae9",
   "metadata": {},
   "outputs": [],
   "source": [
    "import torch\n",
    "\n",
    "input_text = [\"I'd just like to say, I love the product! Thank you!\"]\n",
    "\n",
    "# Tokenize the new data\n",
    "inputs = tokenizer(input_text, return_tensors=\"pt\", padding=True, truncation=True)\n",
    "\n",
    "# Pass the tokenized inputs through the model\n",
    "with torch.no_grad():\n",
    "    outputs = model(**new_input)\n",
    "\n",
    "# Extract the new predictions\n",
    "predicted_labels = torch.argmax(outputs.logits, dim=1).tolist()\n",
    "\n",
    "label_map = {0: \"Low risk\", 1: \"High risk\"}\n",
    "for i, predicted_label in enumerate(predicted_labels):\n",
    "    churn_label = label_map[predicted_label]\n",
    "    print(f\"\\n Input Text {i + 1}: {input_text[i]}\")\n",
    "    print(f\"Predicted Label: {predicted_label}\")"
   ]
  }
 ],
 "metadata": {
  "kernelspec": {
   "display_name": "hugging-face-fundamentals",
   "language": "python",
   "name": "python3"
  },
  "language_info": {
   "codemirror_mode": {
    "name": "ipython",
    "version": 3
   },
   "file_extension": ".py",
   "mimetype": "text/x-python",
   "name": "python",
   "nbconvert_exporter": "python",
   "pygments_lexer": "ipython3",
   "version": "3.12.11"
  }
 },
 "nbformat": 4,
 "nbformat_minor": 5
}
