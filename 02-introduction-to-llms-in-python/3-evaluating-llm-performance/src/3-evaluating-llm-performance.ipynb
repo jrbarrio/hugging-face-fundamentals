{
 "cells": [
  {
   "cell_type": "markdown",
   "id": "09ad1c36",
   "metadata": {},
   "source": [
    "# Evaluating LLM performance"
   ]
  },
  {
   "cell_type": "markdown",
   "id": "14b136c4",
   "metadata": {},
   "source": [
    "## Loading metrics with evaluate"
   ]
  },
  {
   "cell_type": "code",
   "execution_count": null,
   "id": "a4db3801",
   "metadata": {},
   "outputs": [],
   "source": [
    "import evaluate\n",
    "\n",
    "# Load the metrics\n",
    "accuracy = evaluate.load(\"accuracy\")\n",
    "precision = evaluate.load(\"precision\")\n",
    "recall = evaluate.load(\"recall\")\n",
    "f1 = evaluate.load(\"f1\")"
   ]
  },
  {
   "cell_type": "markdown",
   "id": "d49d81ba",
   "metadata": {},
   "source": [
    "## Describing metrics"
   ]
  },
  {
   "cell_type": "code",
   "execution_count": null,
   "id": "98caa856",
   "metadata": {},
   "outputs": [],
   "source": [
    "# Obtain a description of each metric\n",
    "print(accuracy.description)\n",
    "print(precision.description)\n",
    "print(recall.description)\n",
    "print(f1.description)"
   ]
  },
  {
   "cell_type": "code",
   "execution_count": null,
   "id": "650fc347",
   "metadata": {},
   "outputs": [],
   "source": [
    "# See the required data types\n",
    "print(f\"The required data types for accuracy are: {accuracy.features}.\")\n",
    "print(f\"The required data types for precision are: {precision.features}.\")\n",
    "print(f\"The required data types for recall are: {recall.features}.\")\n",
    "print(f\"The required data types for f1 are: {f1.features}.\")"
   ]
  },
  {
   "cell_type": "markdown",
   "id": "558614aa",
   "metadata": {},
   "source": [
    "## Using evaluate metrics"
   ]
  },
  {
   "cell_type": "code",
   "execution_count": null,
   "id": "9c62d8d3",
   "metadata": {},
   "outputs": [],
   "source": [
    "import torch\n",
    "\n",
    "accuracy = evaluate.load(\"accuracy\")\n",
    "precision = evaluate.load(\"precision\")\n",
    "recall = evaluate.load(\"recall\")\n",
    "f1 = evaluate.load(\"f1\")\n",
    "\n",
    "# Extract the new predictions\n",
    "predicted_labels = torch.argmax(outputs.logits, dim=1).tolist()\n",
    "\n",
    "# Compute the metrics by comparing real and predicted labels\n",
    "print(accuracy.compute(references=validate_labels, predictions=predicted_labels))\n",
    "print(precision.compute(references=validate_labels, predictions=predicted_labels))\n",
    "print(recall.compute(references=validate_labels, predictions=predicted_labels))\n",
    "print(f1.compute(references=validate_labels, predictions=predicted_labels))"
   ]
  }
 ],
 "metadata": {
  "kernelspec": {
   "display_name": "hugging-face-fundamentals",
   "language": "python",
   "name": "python3"
  },
  "language_info": {
   "codemirror_mode": {
    "name": "ipython",
    "version": 3
   },
   "file_extension": ".py",
   "mimetype": "text/x-python",
   "name": "python",
   "nbconvert_exporter": "python",
   "pygments_lexer": "ipython3",
   "version": "3.12.11"
  }
 },
 "nbformat": 4,
 "nbformat_minor": 5
}
